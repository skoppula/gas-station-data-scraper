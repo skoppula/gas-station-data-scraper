{
 "cells": [
  {
   "cell_type": "code",
   "execution_count": 4,
   "metadata": {
    "collapsed": true
   },
   "outputs": [],
   "source": [
    "from bs4 import BeautifulSoup\n",
    "import urllib.request\n",
    "import time\n",
    "import random"
   ]
  },
  {
   "cell_type": "code",
   "execution_count": 39,
   "metadata": {
    "collapsed": true
   },
   "outputs": [],
   "source": [
    "def double_quote(word):\n",
    "    double_q = '\"' # double quote\n",
    "    return double_q + word + double_q"
   ]
  },
  {
   "cell_type": "code",
   "execution_count": 44,
   "metadata": {
    "collapsed": false
   },
   "outputs": [],
   "source": [
    "tld = \"https://www.gasbuddy.com/Station/\"\n",
    "matches_path = \"gas_station_data.txt\""
   ]
  },
  {
   "cell_type": "code",
   "execution_count": 45,
   "metadata": {
    "collapsed": false
   },
   "outputs": [
    {
     "name": "stdout",
     "output_type": "stream",
     "text": [
      "\"1\",\"Husky\",\"99 Commissioners Rd W McGregor Ave\",\"London\",\"ON\",\"N6J 1X7\",['Car Wash', 'Restrooms', 'Air', 'Payphone', 'Has Fuel', 'Has Power']\n",
      "\"2\",\"Petro-Canada\",\"1253 Wellington Rd S Exeter Rd\",\"London\",\"ON\",\"N6E 1M4 \",['C-Store', 'Car Wash', 'Pay At Pump', 'Restrooms', 'Air', 'Payphone', 'ATM', 'Has Fuel', 'Has Power']\n",
      "\"3\",\"Petro-Canada\",\"491 Oxford St W Proudfoot Ln\",\"London\",\"ON\",\"N6H 1T2\",['C-Store', 'Car Wash', 'Pay At Pump', 'Restrooms', 'Air', 'Payphone', 'ATM', 'Has Fuel', 'Has Power']\n",
      "\"4\",\"Petro-Canada\",\"1175 Wonderland Rd N Sherwood Forest Sq\",\"London\",\"ON\",\"N6G 2B9\",['C-Store', 'Pay At Pump', 'Restaurant', 'Restrooms', 'Air', 'Payphone', 'ATM', 'Open 24/7', 'Has Fuel', 'Has Power']\n"
     ]
    }
   ],
   "source": [
    "for i in range(1, 100000):\n",
    "    try:\n",
    "        time.sleep(random.random()) # rate limiting prevention\n",
    "        with urllib.request.urlopen(tld + str(i)) as url:\n",
    "            r = url.read()\n",
    "        soup = BeautifulSoup(r, \"html.parser\")\n",
    "        name = soup.find_all(\"h2\", class_=\"station-name\")\n",
    "        amenities = soup.find_all(\"div\", class_=\"station-feature\")\n",
    "        address = soup.find(\"div\", class_=\"station-address\")\n",
    "        city = soup.find(\"span\", itemprop=\"addressLocality\")\n",
    "        state = soup.find(\"span\", itemprop=\"addressRegion\")\n",
    "        zipcode = soup.find(\"span\", itemprop=\"postalCode\")\n",
    "        if len(name) == 0:\n",
    "            print(\"Site did not have a Station %d\", i)\n",
    "        else:\n",
    "            name = name[0].text.strip()\n",
    "            address, city, state, zipcode = address.text, city.text, state.text, zipcode.text\n",
    "            amenities = list(map(lambda x: x.get('title'), amenities))\n",
    "            result = \",\".join(map(double_quote, [str(i), name, address, city, state, zipcode]))\n",
    "            result += \",\" + str(amenities)\n",
    "            with open(matches_path, \"a\") as myfile:\n",
    "                myfile.write(result + '\\n')\n",
    "            print(result)\n",
    "    except:\n",
    "        print(\"Error processing Station %d\", i)"
   ]
  },
  {
   "cell_type": "code",
   "execution_count": null,
   "metadata": {
    "collapsed": false
   },
   "outputs": [],
   "source": []
  },
  {
   "cell_type": "code",
   "execution_count": 96,
   "metadata": {
    "collapsed": true
   },
   "outputs": [],
   "source": []
  },
  {
   "cell_type": "code",
   "execution_count": null,
   "metadata": {
    "collapsed": true
   },
   "outputs": [],
   "source": []
  },
  {
   "cell_type": "code",
   "execution_count": null,
   "metadata": {
    "collapsed": false
   },
   "outputs": [],
   "source": []
  },
  {
   "cell_type": "code",
   "execution_count": null,
   "metadata": {
    "collapsed": false
   },
   "outputs": [],
   "source": []
  },
  {
   "cell_type": "code",
   "execution_count": 99,
   "metadata": {
    "collapsed": true
   },
   "outputs": [],
   "source": []
  }
 ],
 "metadata": {
  "anaconda-cloud": {},
  "kernelspec": {
   "display_name": "Python [conda env:tensorflow]",
   "language": "python",
   "name": "conda-env-tensorflow-py"
  },
  "language_info": {
   "codemirror_mode": {
    "name": "ipython",
    "version": 3
   },
   "file_extension": ".py",
   "mimetype": "text/x-python",
   "name": "python",
   "nbconvert_exporter": "python",
   "pygments_lexer": "ipython3",
   "version": "3.5.2"
  }
 },
 "nbformat": 4,
 "nbformat_minor": 2
}
